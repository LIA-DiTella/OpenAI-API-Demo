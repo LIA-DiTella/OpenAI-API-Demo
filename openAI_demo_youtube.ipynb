{
 "cells": [
  {
   "attachments": {},
   "cell_type": "markdown",
   "metadata": {},
   "source": [
    "<h4> <b> Youtube URL => Resúmen del contenido </b> </h4>"
   ]
  },
  {
   "cell_type": "code",
   "execution_count": 3,
   "metadata": {},
   "outputs": [],
   "source": [
    "import openai\n",
    "import pandas as pd\n",
    "import time\n",
    "from sklearn.manifold import TSNE\n",
    "import numpy as np\n",
    "import matplotlib.pyplot as plt\n",
    "from sklearn.cluster import KMeans\n",
    "import ffmpeg\n",
    "import os\n",
    "from pytube import YouTube\n",
    "\n",
    "openai.api_key = \"sk-\""
   ]
  },
  {
   "cell_type": "code",
   "execution_count": 4,
   "metadata": {},
   "outputs": [],
   "source": [
    "def green(text): return \"\\033[92m {}\\033[00m\".format(text)\n",
    "def red(text): return \"\\033[91m {}\\033[00m\" .format(text)"
   ]
  },
  {
   "attachments": {},
   "cell_type": "markdown",
   "metadata": {},
   "source": [
    "Get Embeddings function"
   ]
  },
  {
   "cell_type": "code",
   "execution_count": 5,
   "metadata": {},
   "outputs": [],
   "source": [
    "def get_embeddings(inputs):\n",
    "   return [openai.Embedding.create(input = inputs, model=\"text-embedding-ada-002\")['data'][i]['embedding'] for i in range(len(inputs))]"
   ]
  },
  {
   "attachments": {},
   "cell_type": "markdown",
   "metadata": {},
   "source": [
    "Descarga del archivo .mp3 a partir de la URL de Youtube"
   ]
  },
  {
   "cell_type": "code",
   "execution_count": 6,
   "metadata": {},
   "outputs": [
    {
     "name": "stderr",
     "output_type": "stream",
     "text": [
      "ffmpeg version 4.4.2-0ubuntu0.22.04.1 Copyright (c) 2000-2021 the FFmpeg developers\n",
      "  built with gcc 11 (Ubuntu 11.2.0-19ubuntu1)\n",
      "  configuration: --prefix=/usr --extra-version=0ubuntu0.22.04.1 --toolchain=hardened --libdir=/usr/lib/x86_64-linux-gnu --incdir=/usr/include/x86_64-linux-gnu --arch=amd64 --enable-gpl --disable-stripping --enable-gnutls --enable-ladspa --enable-libaom --enable-libass --enable-libbluray --enable-libbs2b --enable-libcaca --enable-libcdio --enable-libcodec2 --enable-libdav1d --enable-libflite --enable-libfontconfig --enable-libfreetype --enable-libfribidi --enable-libgme --enable-libgsm --enable-libjack --enable-libmp3lame --enable-libmysofa --enable-libopenjpeg --enable-libopenmpt --enable-libopus --enable-libpulse --enable-librabbitmq --enable-librubberband --enable-libshine --enable-libsnappy --enable-libsoxr --enable-libspeex --enable-libsrt --enable-libssh --enable-libtheora --enable-libtwolame --enable-libvidstab --enable-libvorbis --enable-libvpx --enable-libwebp --enable-libx265 --enable-libxml2 --enable-libxvid --enable-libzimg --enable-libzmq --enable-libzvbi --enable-lv2 --enable-omx --enable-openal --enable-opencl --enable-opengl --enable-sdl2 --enable-pocketsphinx --enable-librsvg --enable-libmfx --enable-libdc1394 --enable-libdrm --enable-libiec61883 --enable-chromaprint --enable-frei0r --enable-libx264 --enable-shared\n",
      "  libavutil      56. 70.100 / 56. 70.100\n",
      "  libavcodec     58.134.100 / 58.134.100\n",
      "  libavformat    58. 76.100 / 58. 76.100\n",
      "  libavdevice    58. 13.100 / 58. 13.100\n",
      "  libavfilter     7.110.100 /  7.110.100\n",
      "  libswscale      5.  9.100 /  5.  9.100\n",
      "  libswresample   3.  9.100 /  3.  9.100\n",
      "  libpostproc    55.  9.100 / 55.  9.100\n",
      "Input #0, mov,mp4,m4a,3gp,3g2,mj2, from '/home/martin/Desktop/ditella/ditella-repo/Inteligencia Artificial ¿Amiga o Enemiga  Diego Fernández Slezak  TEDxRiodelaPlata.mp4':\n",
      "  Metadata:\n",
      "    major_brand     : dash\n",
      "    minor_version   : 0\n",
      "    compatible_brands: iso6mp41\n",
      "    creation_time   : 2017-12-13T15:26:43.000000Z\n",
      "  Duration: 00:10:08.36, start: 0.000000, bitrate: 47 kb/s\n",
      "  Stream #0:0(und): Audio: aac (HE-AAC) (mp4a / 0x6134706D), 44100 Hz, stereo, fltp, 0 kb/s (default)\n",
      "    Metadata:\n",
      "      creation_time   : 2017-12-13T15:26:43.000000Z\n",
      "      handler_name    : SoundHandler\n",
      "      vendor_id       : [0][0][0][0]\n",
      "Stream mapping:\n",
      "  Stream #0:0 -> #0:0 (aac (native) -> mp3 (libmp3lame))\n",
      "Press [q] to stop, [?] for help\n",
      "Output #0, mp3, to 'data/audio.mp3':\n",
      "  Metadata:\n",
      "    major_brand     : dash\n",
      "    minor_version   : 0\n",
      "    compatible_brands: iso6mp41\n",
      "    TSSE            : Lavf58.76.100\n",
      "  Stream #0:0(und): Audio: mp3, 44100 Hz, stereo, fltp (default)\n",
      "    Metadata:\n",
      "      creation_time   : 2017-12-13T15:26:43.000000Z\n",
      "      handler_name    : SoundHandler\n",
      "      vendor_id       : [0][0][0][0]\n",
      "      encoder         : Lavc58.134.100 libmp3lame\n",
      "size=    9506kB time=00:10:08.34 bitrate= 128.0kbits/s speed=76.1x    \n",
      "video:0kB audio:9506kB subtitle:0kB other streams:0kB global headers:0kB muxing overhead: 0.003554%\n"
     ]
    }
   ],
   "source": [
    "if os.path.exists(\"data/audio.mp3\"): os.remove(\"data/audio.mp3\")\n",
    "\n",
    "url = input(\"Youtube URL: \")\n",
    "yt = YouTube(url, use_oauth=True)\n",
    "\n",
    "audio_stream = yt.streams.filter(only_audio=True).first()\n",
    "audio_file = audio_stream.download()\n",
    "\n",
    "(\n",
    "    ffmpeg\n",
    "    .input(audio_file)\n",
    "    .output(\"data/audio.mp3\")\n",
    "    .run()\n",
    ")\n",
    "\n",
    "os.remove(audio_file)"
   ]
  },
  {
   "attachments": {},
   "cell_type": "markdown",
   "metadata": {},
   "source": [
    "Uso WHISPER para convertir el audio en texto y lo separo en oraciones"
   ]
  },
  {
   "cell_type": "code",
   "execution_count": 7,
   "metadata": {},
   "outputs": [
    {
     "name": "stdout",
     "output_type": "stream",
     "text": [
      "['Hay algo que en los próximos años puede cambiar completamente el trabajo como lo conocemos hoy', ' Hay algo que en un futuro puede mejorar nuestra calidad de vida y salud sustancialmente', ' Hay algo que en un futuro puede mejorar nuestra calidad de vida y salud sustancialmente', ' Pero también hay algo que podría aniquilarnos como seres humanos', ' Esas tres cosas, trabajo, salud y muerte, en realidad dependen de una sola, de la inteligencia artificial'] \n",
      "\n",
      "Total sentences: 75\n"
     ]
    }
   ],
   "source": [
    "audio_file = open(\"data/audio.mp3\", \"rb\")\n",
    "transcript = openai.Audio.transcribe(\"whisper-1\", audio_file)\n",
    "\n",
    "sentences = transcript.text.split('.')\n",
    "\n",
    "print(sentences[:5], \"\\n\\nTotal sentences: \" + str(len(sentences)))"
   ]
  },
  {
   "attachments": {},
   "cell_type": "markdown",
   "metadata": {},
   "source": [
    "Creo el DataFrame y calculo los embeddings para cada oración"
   ]
  },
  {
   "cell_type": "code",
   "execution_count": 8,
   "metadata": {},
   "outputs": [
    {
     "data": {
      "text/html": [
       "<div>\n",
       "<style scoped>\n",
       "    .dataframe tbody tr th:only-of-type {\n",
       "        vertical-align: middle;\n",
       "    }\n",
       "\n",
       "    .dataframe tbody tr th {\n",
       "        vertical-align: top;\n",
       "    }\n",
       "\n",
       "    .dataframe thead th {\n",
       "        text-align: right;\n",
       "    }\n",
       "</style>\n",
       "<table border=\"1\" class=\"dataframe\">\n",
       "  <thead>\n",
       "    <tr style=\"text-align: right;\">\n",
       "      <th></th>\n",
       "      <th>text</th>\n",
       "      <th>embedding</th>\n",
       "    </tr>\n",
       "  </thead>\n",
       "  <tbody>\n",
       "    <tr>\n",
       "      <th>0</th>\n",
       "      <td>Hay algo que en los próximos años puede cambia...</td>\n",
       "      <td>[-0.006441871635615826, -0.01371682807803154, ...</td>\n",
       "    </tr>\n",
       "    <tr>\n",
       "      <th>1</th>\n",
       "      <td>Hay algo que en un futuro puede mejorar nuest...</td>\n",
       "      <td>[0.010038762353360653, 0.011132853105664253, 0...</td>\n",
       "    </tr>\n",
       "    <tr>\n",
       "      <th>2</th>\n",
       "      <td>Hay algo que en un futuro puede mejorar nuest...</td>\n",
       "      <td>[0.010038762353360653, 0.011132853105664253, 0...</td>\n",
       "    </tr>\n",
       "    <tr>\n",
       "      <th>3</th>\n",
       "      <td>Pero también hay algo que podría aniquilarnos...</td>\n",
       "      <td>[-0.0005346755497157574, -0.011679735966026783...</td>\n",
       "    </tr>\n",
       "    <tr>\n",
       "      <th>4</th>\n",
       "      <td>Esas tres cosas, trabajo, salud y muerte, en ...</td>\n",
       "      <td>[0.0025878464803099632, 0.0009851186769083142,...</td>\n",
       "    </tr>\n",
       "  </tbody>\n",
       "</table>\n",
       "</div>"
      ],
      "text/plain": [
       "                                                text   \n",
       "0  Hay algo que en los próximos años puede cambia...  \\\n",
       "1   Hay algo que en un futuro puede mejorar nuest...   \n",
       "2   Hay algo que en un futuro puede mejorar nuest...   \n",
       "3   Pero también hay algo que podría aniquilarnos...   \n",
       "4   Esas tres cosas, trabajo, salud y muerte, en ...   \n",
       "\n",
       "                                           embedding  \n",
       "0  [-0.006441871635615826, -0.01371682807803154, ...  \n",
       "1  [0.010038762353360653, 0.011132853105664253, 0...  \n",
       "2  [0.010038762353360653, 0.011132853105664253, 0...  \n",
       "3  [-0.0005346755497157574, -0.011679735966026783...  \n",
       "4  [0.0025878464803099632, 0.0009851186769083142,...  "
      ]
     },
     "execution_count": 8,
     "metadata": {},
     "output_type": "execute_result"
    }
   ],
   "source": [
    "df = pd.DataFrame(sentences, columns = ['text'])\n",
    "\n",
    "df = df[df.text != '']\n",
    "df['embedding'] = get_embeddings(df.text.to_list())\n",
    "\n",
    "df.to_csv(\"data/audio_embeddings.csv\")\n",
    "df.head()"
   ]
  },
  {
   "attachments": {},
   "cell_type": "markdown",
   "metadata": {},
   "source": [
    "Leo el .csv, utilizo KMEANS para generar clusters y TSNE para visualizar"
   ]
  },
  {
   "cell_type": "code",
   "execution_count": 9,
   "metadata": {},
   "outputs": [],
   "source": [
    "df = pd.read_csv(\"data/audio_embeddings.csv\")"
   ]
  },
  {
   "attachments": {},
   "cell_type": "markdown",
   "metadata": {},
   "source": [
    "Pido a <b> gpt </b> que categorice el transcripto del audio"
   ]
  },
  {
   "cell_type": "code",
   "execution_count": 10,
   "metadata": {},
   "outputs": [
    {
     "name": "stdout",
     "output_type": "stream",
     "text": [
      "Se podría dividir en las siguientes secciones:\n",
      "\n",
      "1. Introducción: se presenta la idea de que la inteligencia artificial puede cambiar el trabajo, la salud y la muerte.\n",
      "2. Definición de inteligencia artificial: se explica la definición propuesta por Alan Turing y cómo ha llevado a la replicación del comportamiento humano en distintos dominios.\n",
      "3. Poder de la inteligencia artificial: se describen las características que hacen a las computadoras poderosas e inteligentes.\n",
      "4. Debate sobre la seguridad de la inteligencia artificial: se presentan las posturas de Bill Gates, Elon Musk y Mark Zuckerberg sobre el desarrollo de la tecnología.\n",
      "5. Aplicación de la inteligencia artificial en medicina: se explica cómo se ha desarrollado un sistema de inteligencia artificial para ayudar en el diagnóstico de enfermedades.\n",
      "6. Avance de la inteligencia artificial en medicina: se presenta la posibilidad de que\n"
     ]
    }
   ],
   "source": [
    "all_sentences = df['text'].str.cat(sep = '.')\n",
    "\n",
    "response = openai.ChatCompletion.create(\n",
    "\n",
    "    model = \"gpt-3.5-turbo\",\n",
    "    messages = [\n",
    "        {'role': 'user', 'content': f'En cuantas secciones independientes dividirías el siguiente texto?: \\n\\n\"\"\"\\n{ all_sentences }\\n\"\"\"\\n\\n'}\n",
    "    ],\n",
    "    temperature = 0,\n",
    "    max_tokens = 200,\n",
    "    top_p = 1,\n",
    "    frequency_penalty = 0,\n",
    "    presence_penalty = 0,\n",
    ")\n",
    "\n",
    "print(response['choices'][0]['message']['content'])"
   ]
  },
  {
   "attachments": {},
   "cell_type": "markdown",
   "metadata": {},
   "source": [
    "Separo los <b> embeddings </b> utilizando KMEANS con k clusters, tomando la sugerencia de secciones dada previamente"
   ]
  },
  {
   "cell_type": "code",
   "execution_count": 11,
   "metadata": {},
   "outputs": [
    {
     "name": "stderr",
     "output_type": "stream",
     "text": [
      "/home/martin/.local/lib/python3.10/site-packages/sklearn/cluster/_kmeans.py:870: FutureWarning: The default value of `n_init` will change from 10 to 'auto' in 1.4. Set the value of `n_init` explicitly to suppress the warning\n",
      "  warnings.warn(\n"
     ]
    }
   ],
   "source": [
    "n_clusters = 3\n",
    "matrix = np.array(df.embedding.apply(eval).to_list())\n",
    "\n",
    "kmeans = KMeans(n_clusters=n_clusters, init='k-means++', random_state=42)\n",
    "kmeans.fit(matrix)\n",
    "\n",
    "labels = kmeans.labels_\n",
    "df['cluster'] = labels"
   ]
  },
  {
   "attachments": {},
   "cell_type": "markdown",
   "metadata": {},
   "source": [
    "TSNE\n",
    "\n",
    "<b> perplexity </b> indica como balancear la atención entre aspectos locales y globales de los datos"
   ]
  },
  {
   "cell_type": "code",
   "execution_count": 12,
   "metadata": {},
   "outputs": [],
   "source": [
    "tsne = TSNE(n_components=2, perplexity=30, random_state=42, init='random', learning_rate=200)\n",
    "vis_dims = tsne.fit_transform(matrix)"
   ]
  },
  {
   "attachments": {},
   "cell_type": "markdown",
   "metadata": {},
   "source": [
    "Plot de la transformación"
   ]
  },
  {
   "cell_type": "code",
   "execution_count": 13,
   "metadata": {},
   "outputs": [
    {
     "data": {
      "image/png": "[encoded data removed]",
      "text/plain": [
       "<Figure size 640x480 with 1 Axes>"
      ]
     },
     "metadata": {},
     "output_type": "display_data"
    }
   ],
   "source": [
    "x = vis_dims[:,0]\n",
    "y = vis_dims[:,1]\n",
    "\n",
    "for k in range(n_clusters):\n",
    "    xs = np.array(x)[df.cluster == k]\n",
    "    ys = np.array(y)[df.cluster == k]\n",
    "\n",
    "    plt.scatter(xs, ys, color=['red','blue','green','orange','black'][k])"
   ]
  },
  {
   "attachments": {},
   "cell_type": "markdown",
   "metadata": {},
   "source": [
    "Utilizo <b> Chat-Completion </b> para determinar que tienen en común cada cluster y generar un breve resumen. <b> GPT turbo vale el 10% de Davinci </b>"
   ]
  },
  {
   "cell_type": "code",
   "execution_count": 14,
   "metadata": {},
   "outputs": [
    {
     "name": "stdout",
     "output_type": "stream",
     "text": [
      "\u001b[91m Seccion \u001b[00m0 : \u001b[92m \"La inteligencia artificial: ¿un peligro o una oportunidad para la humanidad?\"\u001b[00m\n",
      "\n",
      " El texto habla sobre la definición de inteligencia artificial y cómo las computadoras pueden replicar el comportamiento humano.\n",
      " Se mencionan los factores que hacen que las computadoras sean poderosas e inteligentes, como el poder de cómputo, la memoria y los programas de inteligencia artificial.\n",
      " También se plantea el debate sobre si la inteligencia artificial puede ser peligrosa y tomar conciencia como en las películas de ciencia ficción.\n",
      " A pesar de esto, se destacan los beneficios que esta tecnología puede traer para la salud y calidad de vida.\n",
      "\n",
      "\n",
      "\u001b[91m Seccion \u001b[00m1 : \u001b[92m \"La inteligencia artificial en la medicina: una herramienta complementaria para los médicos del futuro\"\u001b[00m\n",
      "\n",
      " El autor es un investigador en inteligencia artificial aplicada a medicina.\n",
      " Junto con un grupo de neurólogos informáticos, han creado un sistema de inteligencia artificial que revisa historias clínicas para validar diagnósticos y proponer tratamientos.\n",
      " Han logrado una precisión del 90% en comparación con los neurólogos humanos.\n",
      " También están desarrollando un médico virtual que puede realizar entrevistas y sugerir tratamientos automáticamente.\n",
      " El autor cree que la inteligencia artificial será una herramienta importante para los médicos en el futuro, pero nunca reemplazará la relación humana entre médico y paciente.\n",
      "\n",
      "\n",
      "\u001b[91m Seccion \u001b[00m2 : \u001b[92m \"La inteligencia artificial: riesgos y beneficios en el trabajo y la vida cotidiana\"\u001b[00m\n",
      "\n",
      " El texto habla sobre la tecnología de inteligencia artificial y su impacto en el trabajo y la vida cotidiana.\n",
      " Se mencionan ejemplos como el ajedrez y la detección de rostros en fotografías, así como el debate sobre los riesgos y beneficios de esta tecnología.\n",
      " El autor destaca la importancia de regularla para evitar posibles consecuencias negativas.\n",
      " También se menciona el potencial de la inteligencia artificial en mejorar la calidad de vida y salud, pero se plantea la pregunta sobre si reemplazará a los médicos en el futuro.\n",
      "\n",
      "\n"
     ]
    }
   ],
   "source": [
    "output = \"\"\n",
    "\n",
    "for k in range(n_clusters):\n",
    "\n",
    "    if k != 0: time.sleep(35) \n",
    "    cluster_sentences = df[df['cluster'] == k]['text'].str.cat(sep = '.')\n",
    "\n",
    "    response = openai.ChatCompletion.create(\n",
    "\n",
    "        model = \"gpt-3.5-turbo\",\n",
    "        messages = [\n",
    "            {'role': 'user', 'content': f'Resumir brevemente el siguiente texto : \\n\\n\"\"\"\\n{ cluster_sentences }\\n\"\"\"\\n\\n'}\n",
    "        ],\n",
    "        temperature = 0,\n",
    "        max_tokens = 300,\n",
    "        top_p = 1,\n",
    "        frequency_penalty = 0.5,\n",
    "        presence_penalty = 0,\n",
    "    )\n",
    "\n",
    "    summary = response['choices'][0]['message']['content'].replace('.','.\\n')\n",
    "\n",
    "    response = openai.ChatCompletion.create(\n",
    "\n",
    "        model = \"gpt-3.5-turbo\",\n",
    "        messages = [\n",
    "            {'role': 'user', 'content': f'Dar un título para el siguiente texto : \\n\\n\"\"\"\\n{ summary }\\n\"\"\"\\n\\n'}\n",
    "        ],\n",
    "        temperature = 0,\n",
    "        max_tokens = 100,\n",
    "        top_p = 1,\n",
    "        frequency_penalty = 0,\n",
    "        presence_penalty = 0,\n",
    "    )\n",
    "\n",
    "    title = response['choices'][0]['message']['content']\n",
    "    output += \"Titulo de la sección: \" + title + \"\\n\\n \" + summary + \"\\n\"\n",
    "\n",
    "    print(red(\"Seccion \") + str(k) + \" : \" + green(title) + \"\\n\\n \" + summary + \"\\n\")\n"
   ]
  },
  {
   "attachments": {},
   "cell_type": "markdown",
   "metadata": {},
   "source": [
    "Genero un código HTML usando <b> ChatCompletion </b> que utilice la información generada en el resúmen."
   ]
  },
  {
   "cell_type": "code",
   "execution_count": 16,
   "metadata": {},
   "outputs": [
    {
     "name": "stdout",
     "output_type": "stream",
     "text": [
      "<!DOCTYPE html>\n",
      "<html>\n",
      "<head>\n",
      "\t<title>La inteligencia artificial: ¿un peligro o una oportunidad para la humanidad?</title>\n",
      "\t<style>\n",
      "\t\tbody{\n",
      "\t\t\tbackground-color: #e6e6e6;\n",
      "\t\t\tpadding: 20px;\n",
      "\t\t\tfont-family: Arial, sans-serif;\n",
      "\t\t}\n",
      "\n",
      "\t\th1{\n",
      "\t\t\ttext-align: center;\n",
      "\t\t\tfont-size: 40px;\n",
      "\t\t\tcolor: #333;\n",
      "\t\t\tmargin-bottom: 50px;\n",
      "\t\t}\n",
      "\n",
      "\t\th2{\n",
      "\t\t\tcolor: #008080;\n",
      "\t\t\tfont-size: 24px;\n",
      "\t\t\tmargin-top: 50px;\n",
      "\t\t\tmargin-bottom: 20px;\n",
      "\t\t}\n",
      "\n",
      "\t\tp{\n",
      "\t\t\tline-height: 1.5;\n",
      "\t\t\tfont-size: 20px;\n",
      "\t\t}\n",
      "\n",
      "\t\tsection{\n",
      "\t\t\tborder: 2px solid #008080;\n",
      "\t\t\tpadding: 30px;\n",
      "\t\t\tmargin-bottom: 50px;\n",
      "\t\t}\n",
      "\n",
      "\t</style>\n",
      "</head>\n",
      "<body>\n",
      "\t<h1>La inteligencia artificial: ¿un peligro o una oportunidad para la humanidad?</h1>\n",
      "\t<section>\n",
      "\t\t<h2>Definición de inteligencia artificial</h2>\n",
      "\t\t<p>El texto habla sobre la definición de inteligencia artificial y cómo las computadoras pueden replicar el comportamiento humano.</p>\n",
      "\t\t<p>Se mencionan los factores que hacen que las computadoras sean poderosas e inteligentes, como el poder de cómputo, la memoria y los programas de inteligencia artificial.</p>\n",
      "\t\t<p>También se plantea el debate sobre si la inteligencia artificial puede ser peligrosa y tomar conciencia como en las películas de ciencia ficción.</p>\n",
      "\t\t<p>A pesar de esto, se destacan los beneficios que esta tecnología puede traer para la salud y calidad de vida.</p>\n",
      "\t</section>\n",
      "\n",
      "\t<section>\n",
      "\t\t<h2>La inteligencia artificial en la medicina</h2>\n",
      "\t\t<p>El autor es un investigador en inteligencia artificial aplicada a medicina.</p>\n",
      "\t\t<p>Junto con un grupo de neurólogos informáticos, han creado un sistema de inteligencia artificial que revisa historias clínicas para validar diagnósticos y proponer tratamientos.</p>\n",
      "\t\t<p>Han logrado una precisión del 90% en comparación con los neurólogos humanos.</p>\n",
      "\t\t<p>También están desarrollando un médico virtual que puede realizar entrevistas y sugerir tratamientos automáticamente.</p>\n",
      "\t\t<p>El autor cree que la inteligencia artificial será una herramienta importante para los médicos en el futuro, pero nunca reemplazará la relación humana entre médico y paciente.</p>\n",
      "\t</section>\n",
      "\n",
      "\t<section>\n",
      "\t\t<h2>Riesgos y beneficios en el trabajo y la vida cotidiana</h2>\n",
      "\t\t<p>El texto habla sobre la tecnología de inteligencia artificial y su impacto en el trabajo y la vida cotidiana.</p>\n",
      "\t\t<p>Se mencionan ejemplos como el ajedrez y la detección de rostros en fotografías, así como el debate sobre los riesgos y beneficios de esta tecnología.</p>\n",
      "\t\t<p>El autor destaca la importancia de regularla para evitar posibles consecuencias negativas.</p>\n",
      "\t\t<p>También se menciona el potencial de la inteligencia artificial en mejorar la calidad de vida y salud, pero se plantea la pregunta sobre si reemplazará a los médicos en el futuro.</p>\n",
      "\t</section>\n",
      "\n",
      "</body>\n",
      "</html>\n"
     ]
    }
   ],
   "source": [
    "response = openai.ChatCompletion.create(\n",
    "\n",
    "    model = \"gpt-3.5-turbo\",\n",
    "    messages = [\n",
    "        {'role': 'system', 'content': 'Eres un programador web que realiza paǵinas con mucho estilo, colores, y diseños.'},\n",
    "        {'role': 'user', 'content': f'Dar el código HTML para un página que contenga la siguiente información, utilizar estilos, colores y resaltar el título de cada sección. Además, crear un título general que resuma todo el contenido en una sóla oracion. Información a utilizar: \\n\\n\"\"\"\\n{ output }\\n\"\"\"\\n\\n'}\n",
    "    ],\n",
    "    temperature = 0.8,\n",
    "    top_p = 1,\n",
    "    frequency_penalty = 0,\n",
    "    presence_penalty = 0,\n",
    ")\n",
    "\n",
    "response_message = response['choices'][0]['message']['content']\n",
    "print(response_message)"
   ]
  },
  {
   "attachments": {},
   "cell_type": "markdown",
   "metadata": {},
   "source": [
    "Sólo tomo el código HTML, por si las dudas escribe algo por fuera de esto. Luego, genero el archivo .html"
   ]
  },
  {
   "cell_type": "code",
   "execution_count": 17,
   "metadata": {},
   "outputs": [],
   "source": [
    "start_index = response_message.find(\"<!DOCTYPE html>\")\n",
    "end_index = response_message.find(\"</html>\")\n",
    "\n",
    "html_code = response_message[start_index: end_index + 7]\n",
    "\n",
    "file_html = open(\"demo.html\", \"w\")\n",
    "file_html.write(html_code)\n",
    "file_html.close()"
   ]
  }
 ],
 "metadata": {
  "kernelspec": {
   "display_name": "Python 3",
   "language": "python",
   "name": "python3"
  },
  "language_info": {
   "codemirror_mode": {
    "name": "ipython",
    "version": 3
   },
   "file_extension": ".py",
   "mimetype": "text/x-python",
   "name": "python",
   "nbconvert_exporter": "python",
   "pygments_lexer": "ipython3",
   "version": "3.10.6"
  },
  "orig_nbformat": 4
 },
 "nbformat": 4,
 "nbformat_minor": 2
}
